{
 "cells": [
  {
   "cell_type": "markdown",
   "metadata": {},
   "source": [
    "<div style=\"text-align: center; background-color: #0A6EBD; font-family: 'Trebuchet MS', Arial, sans-serif; color: white; padding: 20px; font-size: 40px; font-weight: bold; border-radius: 0 0 0 0; box-shadow: 0px 6px 8px rgba(0, 0, 0, 0.2);\">\n",
    "  Final Project - Programming for Data Science @ FIT-HCMUS, VNU-HCM 📌\n",
    "</div>"
   ]
  },
  {
   "cell_type": "markdown",
   "metadata": {},
   "source": [
    "<div style=\"text-align: center; background-color: #6dbcfc; font-family: 'Trebuchet MS', Arial, sans-serif; color: white; padding: 20px; font-size: 40px; font-weight: bold; border-radius: 0 0 0 0; box-shadow: 0px 6px 8px rgba(0, 0, 0, 0.2);\">\n",
    "  Stage 04 - Reflection 📝\n",
    "</div>"
   ]
  },
  {
   "cell_type": "markdown",
   "metadata": {},
   "source": [
    "# 📍 Difficulties"
   ]
  },
  {
   "cell_type": "markdown",
   "metadata": {},
   "source": [
    "### <font color=lightblue>Nguyễn Duy Đăng Khoa - 21127078</font>\n",
    "- "
   ]
  },
  {
   "cell_type": "markdown",
   "metadata": {},
   "source": [
    "### <font color=lightgreen>Lê Mỹ Khánh Quỳnh - 21127681</font>\n",
    "- Struggling to formulate meaningful questions for the data.\n",
    "- Consensus among team members.\n",
    "- Resolving conflicts occurring during the merging of versions on GitHub."
   ]
  },
  {
   "cell_type": "markdown",
   "metadata": {},
   "source": [
    "# 📍 Lessons learned"
   ]
  },
  {
   "cell_type": "markdown",
   "metadata": {},
   "source": [
    "### <font color=lightblue>Nguyễn Duy Đăng Khoa - 21127078</font>\n",
    "- Utilize HTML to write prettier, more convenient notebooks and pay attention to headings when writing notebooks.\n",
    "- Data might not follow a normal distribution and can be difficult to visualize, we need to understand multiple scaling methods to help us.\n"
   ]
  },
  {
   "cell_type": "markdown",
   "metadata": {},
   "source": [
    "### <font color=lightgreen>Lê Mỹ Khánh Quỳnh - 21127681</font>\n",
    "- When asking questions, be aware of the purpose of answering that question/the value that question will bring to an organization.\n",
    "- Getting a clearer understanding of the data preprocessing and exploration process.\n",
    "- Improving the ability to locate and analyze data, as well as mastering techniques for data processing and visualization."
   ]
  },
  {
   "cell_type": "markdown",
   "metadata": {},
   "source": [
    "# 📍 If we had more time, what would we do ?\n",
    "- Finding more meaningful questions related to machine learning.\n",
    "- Exploring and researching more deeply about formulating and answering questions."
   ]
  },
  {
   "cell_type": "markdown",
   "metadata": {},
   "source": [
    "# 📍 References"
   ]
  },
  {
   "cell_type": "markdown",
   "metadata": {},
   "source": [
    "- Documents of subject Introduction Programming for Data Science - lecturer Phạm Trọng Nghĩa - Ho Chi Minh University of Science\n",
    "- Dataset: https://www.kaggle.com/datasets/donbarbos/github-repos\n",
    "- How to use markdown effectively: https://www.markdownguide.org/basic-syntax/\n",
    "- Matplotlib Documents: https://matplotlib.org/stable/gallery/\n",
    "- EDA Documents: https://machinelearningcoban.com/tabml_book"
   ]
  }
 ],
 "metadata": {
  "language_info": {
   "name": "python"
  }
 },
 "nbformat": 4,
 "nbformat_minor": 2
}
