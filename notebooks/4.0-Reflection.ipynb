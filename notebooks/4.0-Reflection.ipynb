{
 "cells": [
  {
   "cell_type": "markdown",
   "metadata": {},
   "source": [
    "<div style=\"text-align: center; background-color: #0A6EBD; font-family: 'Trebuchet MS', Arial, sans-serif; color: white; padding: 20px; font-size: 40px; font-weight: bold; border-radius: 0 0 0 0; box-shadow: 0px 6px 8px rgba(0, 0, 0, 0.2);\">\n",
    "  Final Project - Programming for Data Science @ FIT-HCMUS, VNU-HCM 📌\n",
    "</div>"
   ]
  },
  {
   "cell_type": "markdown",
   "metadata": {},
   "source": [
    "<div style=\"text-align: center; background-color: #00ccff; font-family: 'Trebuchet MS', Arial, sans-serif; color: white; padding: 20px; font-size: 40px; font-weight: bold; border-radius: 0 0 0 0; box-shadow: 0px 6px 8px rgba(0, 0, 0, 0.2);\">\n",
    "  Stage 04 - Reflection 🔎\n",
    "</div>"
   ]
  },
  {
   "cell_type": "markdown",
   "metadata": {},
   "source": [
    "# Difficulties and Lessons learned\n",
    "- After this project, our team has gained many new skills and experience "
   ]
  },
  {
   "cell_type": "markdown",
   "metadata": {},
   "source": [
    "1. **Writing notebooks:**\n",
    "    - Utilize HTML to write prettier, more convenient notebooks.\n",
    "    - Pay attention to headings when writing notebooks.\n",
    "2. **Asking questions:**\n",
    "    - When asking questions, be aware of the purpose of answering that question/the value that question will bring to an organization.\n",
    "3. **Analyzing:**\n",
    "    - Data might not follow a normal distribution and can be difficult to visualize, we need to understand multiple scaling methods to help us.\n",
    "3. **Collaboration:**\n",
    "    - All meetings should be reported and archived.\n",
    "    - Individuals should be provided a personal branch within the repository to work on their code, and we should always check for changes to the remote branches (perform `git pull`) before any coding session in order to minimize conflicts."
   ]
  },
  {
   "cell_type": "markdown",
   "metadata": {},
   "source": [
    "# References"
   ]
  },
  {
   "cell_type": "markdown",
   "metadata": {},
   "source": [
    "- Documents of subject Introduction Programming for Data Science - lecturer Phạm Trọng Nghĩa - Ho Chi Minh University of Science\n",
    "- How to use markdown effectively: https://www.markdownguide.org/basic-syntax/\n",
    "- Matplotlib Documents: https://matplotlib.org/stable/gallery/\n",
    "- EDA Documents: https://machinelearningcoban.com/tabml_book"
   ]
  }
 ],
 "metadata": {
  "language_info": {
   "name": "python"
  }
 },
 "nbformat": 4,
 "nbformat_minor": 2
}
