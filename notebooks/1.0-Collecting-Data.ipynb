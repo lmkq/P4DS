{
 "cells": [
  {
   "cell_type": "markdown",
   "metadata": {},
   "source": [
    "<div style=\"text-align: center; background-color: #0A6EBD; font-family: 'Trebuchet MS', Arial, sans-serif; color: white; padding: 20px; font-size: 40px; font-weight: bold; border-radius: 0 0 0 0; box-shadow: 0px 6px 8px rgba(0, 0, 0, 0.2);\">\n",
    "  Final Project - Programming for Data Science  @ FIT-HCMUS, VNU-HCM 📌\n",
    "</div>"
   ]
  },
  {
   "cell_type": "markdown",
   "metadata": {},
   "source": [
    "<div style=\"text-align: center; background-color: #FEB664; font-family: 'Trebuchet MS', Arial, sans-serif; color: white; padding: 20px; font-size: 40px; font-weight: bold; border-radius: 0 0 0 0; box-shadow: 0px 6px 8px rgba(0, 0, 0, 0.2);\">\n",
    "  Stage 01 - Collecting Data 📝\n",
    "</div>"
   ]
  },
  {
   "cell_type": "markdown",
   "metadata": {},
   "source": [
    "# Group Information  \n",
    "Group id: `23`  \n",
    "\n",
    "Group name: `DKQ`\n",
    "\n",
    "| Name               | Student ID | Email                       |\n",
    "| ------------------ | ---------- | --------------------------- |\n",
    "| Nguyễn Duy Đăng Khoa         | 21127078   | nddkhoa@clc.fitus.edu.vn    |\n",
    "| Lê Mỹ Khánh Quỳnh         | 21127681   | lmkquynh21@clc.fitus.edu.vn    |"
   ]
  },
  {
   "cell_type": "markdown",
   "metadata": {},
   "source": [
    "# Table of Contents\n",
    "1. [**Data Collecting**](#data-collecting)  \n",
    "    a. [**What subject is our data about? What is the source of the data?**](#what-subject-is-our-data-about-what-is-the-source-of-the-data)  \n",
    "    b. [**Do authors of this data allow us to use like this?**](#do-authors-of-this-data-allow-you-to-use-like-this)  \n",
    "    c. [**How did author collect data?**](#how-did-author-collect-data)  \n",
    "2. [**License**](#license)"
   ]
  },
  {
   "cell_type": "markdown",
   "metadata": {},
   "source": [
    "# Data Collecting"
   ]
  },
  {
   "cell_type": "markdown",
   "metadata": {},
   "source": [
    "### <font color=lightgreen>What subject is our data about? What is the source of the data?</font>\n",
    "- The data is about top GitHub projects with over 167 stars, sourced from the GitHub platform.\n",
    "- The GitHub Search API was used to query and retrieve information about repositories, focusing on those with a specified number of stars.\n",
    "### <font color=lightgreen>Do authors of this data allow you to use like this? </font>\n",
    "- The dataset is released under the Attribution 4.0 International (CC BY 4.0) license. This license allows you to use, share, and adapt the data for any purpose, even commercially, as long as you provide appropriate attribution to the original authors.\n",
    "### <font color=lightgreen>How did author collect data?</font>\n",
    "- The authors collected the data using the GitHub Search API. Specifically, they utilized the API to query for repositories based on star counts. As the API limits the results to the first thousand for a query, the collector looped through low/high star count pairs that returned fewer than a thousand repositories."
   ]
  },
  {
   "cell_type": "markdown",
   "metadata": {},
   "source": [
    "**About LICENSE** <t id='license'></t>"
   ]
  },
  {
   "cell_type": "markdown",
   "metadata": {},
   "source": [
    "```\n",
    "Creative Commons Attribution 4.0 (CC-BY 4.0)\n",
    "\n",
    "The Creative Commons Attribution 4.0 International license allows users to copy, modify and distribute data in any format for any purpose, including commercial use. Users are only obligated to give appropriate credit (attribution) and indicate if they have made any changes, including translations. CC-BY 4.0, with the additional terms below, is the default license for all Datasets produced by the World Bank itself and distributed as open data.\n",
    "\n",
    "All users of these Datasets under the CC-BY 4.0 License also agree to the following mandatory terms: Any and all disputes arising under this License that cannot be settled amicably shall be resolved in accordance with the following procedure:\n",
    "1. Pursuant to a notice of mediation communicated by reasonable means by either You or the Licensor to the other, the dispute shall be submitted to non-binding mediation conducted in accordance with rules designated by the Licensor in the copyright notice published with the Work, or if none then in accordance with those communicated in the notice of mediation. The language used in the mediation proceedings shall be English unless otherwise agreed.\n",
    "2. If any such dispute has not been settled within 45 days following the date on which the notice of mediation is provided, either You or the Licensor may, pursuant to a notice of arbitration communicated by reasonable means to the other, elect to have the dispute referred to and finally determined by arbitration. The arbitration shall be conducted in accordance with the rules designated by the Licensor in the copyright notice published with the Work, or if none then in accordance with the UNCITRAL Arbitration Rules as then in force. The arbitral tribunal shall consist of a sole arbitrator and the language of the proceedings shall be English unless otherwise agreed. The place of arbitration shall be where the Licensor has its headquarters. The arbitral proceedings shall be conducted remotely (e.g., via telephone conference or written submissions) whenever practicable.\n",
    "```"
   ]
  }
 ],
 "metadata": {
  "kernelspec": {
   "display_name": "min_ds-env",
   "language": "python",
   "name": "python3"
  },
  "language_info": {
   "codemirror_mode": {
    "name": "ipython",
    "version": 3
   },
   "file_extension": ".py",
   "mimetype": "text/x-python",
   "name": "python",
   "nbconvert_exporter": "python",
   "pygments_lexer": "ipython3",
   "version": "3.11.2"
  }
 },
 "nbformat": 4,
 "nbformat_minor": 2
}
