{
 "cells": [
  {
   "cell_type": "markdown",
   "metadata": {},
   "source": [
    "<div style=\"text-align: center; background-color: #0A6EBD; font-family: 'Trebuchet MS', Arial, sans-serif; color: white; padding: 20px; font-size: 40px; font-weight: bold; border-radius: 0 0 0 0; box-shadow: 0px 6px 8px rgba(0, 0, 0, 0.2);\">\n",
    "  Final Project - Introduction To Data Science @ FIT-HCMUS, VNU-HCM 📌\n",
    "</div>"
   ]
  },
  {
   "cell_type": "markdown",
   "metadata": {},
   "source": [
    "<div style=\"text-align: center; background-color: #77F0A1; font-family: 'Trebuchet MS', Arial, sans-serif; color: white; padding: 20px; font-size: 40px; font-weight: bold; border-radius: 0 0 0 0; box-shadow: 0px 6px 8px rgba(0, 0, 0, 0.2);\">\n",
    "  Stage 02 - Exploring Data 🔎\n",
    "</div>"
   ]
  },
  {
   "cell_type": "markdown",
   "metadata": {},
   "source": [
    "## Import"
   ]
  },
  {
   "cell_type": "code",
   "execution_count": 19,
   "metadata": {},
   "outputs": [],
   "source": [
    "import os\n",
    "import sys\n",
    "import numpy as np\n",
    "import pandas as pd\n",
    "import matplotlib.pyplot as plt\n",
    "import seaborn as sns\n",
    "import datetime"
   ]
  },
  {
   "cell_type": "markdown",
   "metadata": {},
   "source": [
    "## Exploring data"
   ]
  },
  {
   "cell_type": "markdown",
   "metadata": {},
   "source": [
    "Read raw data from file"
   ]
  },
  {
   "cell_type": "code",
   "execution_count": 20,
   "metadata": {},
   "outputs": [
    {
     "data": {
      "text/html": [
       "<div>\n",
       "<style scoped>\n",
       "    .dataframe tbody tr th:only-of-type {\n",
       "        vertical-align: middle;\n",
       "    }\n",
       "\n",
       "    .dataframe tbody tr th {\n",
       "        vertical-align: top;\n",
       "    }\n",
       "\n",
       "    .dataframe thead th {\n",
       "        text-align: right;\n",
       "    }\n",
       "</style>\n",
       "<table border=\"1\" class=\"dataframe\">\n",
       "  <thead>\n",
       "    <tr style=\"text-align: right;\">\n",
       "      <th></th>\n",
       "      <th>Name</th>\n",
       "      <th>Description</th>\n",
       "      <th>URL</th>\n",
       "      <th>Created At</th>\n",
       "      <th>Updated At</th>\n",
       "      <th>Homepage</th>\n",
       "      <th>Size</th>\n",
       "      <th>Stars</th>\n",
       "      <th>Forks</th>\n",
       "      <th>Issues</th>\n",
       "      <th>...</th>\n",
       "      <th>Has Issues</th>\n",
       "      <th>Has Projects</th>\n",
       "      <th>Has Downloads</th>\n",
       "      <th>Has Wiki</th>\n",
       "      <th>Has Pages</th>\n",
       "      <th>Has Discussions</th>\n",
       "      <th>Is Fork</th>\n",
       "      <th>Is Archived</th>\n",
       "      <th>Is Template</th>\n",
       "      <th>Default Branch</th>\n",
       "    </tr>\n",
       "  </thead>\n",
       "  <tbody>\n",
       "    <tr>\n",
       "      <th>0</th>\n",
       "      <td>freeCodeCamp</td>\n",
       "      <td>freeCodeCamp.org's open-source codebase and cu...</td>\n",
       "      <td>https://github.com/freeCodeCamp/freeCodeCamp</td>\n",
       "      <td>2014-12-24T17:49:19Z</td>\n",
       "      <td>2023-09-21T11:32:33Z</td>\n",
       "      <td>http://contribute.freecodecamp.org/</td>\n",
       "      <td>387451</td>\n",
       "      <td>374074</td>\n",
       "      <td>33599</td>\n",
       "      <td>248</td>\n",
       "      <td>...</td>\n",
       "      <td>True</td>\n",
       "      <td>True</td>\n",
       "      <td>True</td>\n",
       "      <td>False</td>\n",
       "      <td>True</td>\n",
       "      <td>False</td>\n",
       "      <td>False</td>\n",
       "      <td>False</td>\n",
       "      <td>False</td>\n",
       "      <td>main</td>\n",
       "    </tr>\n",
       "    <tr>\n",
       "      <th>1</th>\n",
       "      <td>free-programming-books</td>\n",
       "      <td>:books: Freely available programming books</td>\n",
       "      <td>https://github.com/EbookFoundation/free-progra...</td>\n",
       "      <td>2013-10-11T06:50:37Z</td>\n",
       "      <td>2023-09-21T11:09:25Z</td>\n",
       "      <td>https://ebookfoundation.github.io/free-program...</td>\n",
       "      <td>17087</td>\n",
       "      <td>298393</td>\n",
       "      <td>57194</td>\n",
       "      <td>46</td>\n",
       "      <td>...</td>\n",
       "      <td>True</td>\n",
       "      <td>False</td>\n",
       "      <td>True</td>\n",
       "      <td>False</td>\n",
       "      <td>True</td>\n",
       "      <td>False</td>\n",
       "      <td>False</td>\n",
       "      <td>False</td>\n",
       "      <td>False</td>\n",
       "      <td>main</td>\n",
       "    </tr>\n",
       "    <tr>\n",
       "      <th>2</th>\n",
       "      <td>awesome</td>\n",
       "      <td>😎 Awesome lists about all kinds of interesting...</td>\n",
       "      <td>https://github.com/sindresorhus/awesome</td>\n",
       "      <td>2014-07-11T13:42:37Z</td>\n",
       "      <td>2023-09-21T11:18:22Z</td>\n",
       "      <td>NaN</td>\n",
       "      <td>1441</td>\n",
       "      <td>269997</td>\n",
       "      <td>26485</td>\n",
       "      <td>61</td>\n",
       "      <td>...</td>\n",
       "      <td>True</td>\n",
       "      <td>False</td>\n",
       "      <td>True</td>\n",
       "      <td>False</td>\n",
       "      <td>True</td>\n",
       "      <td>False</td>\n",
       "      <td>False</td>\n",
       "      <td>False</td>\n",
       "      <td>False</td>\n",
       "      <td>main</td>\n",
       "    </tr>\n",
       "    <tr>\n",
       "      <th>3</th>\n",
       "      <td>996.ICU</td>\n",
       "      <td>Repo for counting stars and contributing. Pres...</td>\n",
       "      <td>https://github.com/996icu/996.ICU</td>\n",
       "      <td>2019-03-26T07:31:14Z</td>\n",
       "      <td>2023-09-21T08:09:01Z</td>\n",
       "      <td>https://996.icu</td>\n",
       "      <td>187799</td>\n",
       "      <td>267901</td>\n",
       "      <td>21497</td>\n",
       "      <td>16712</td>\n",
       "      <td>...</td>\n",
       "      <td>False</td>\n",
       "      <td>False</td>\n",
       "      <td>True</td>\n",
       "      <td>False</td>\n",
       "      <td>False</td>\n",
       "      <td>False</td>\n",
       "      <td>False</td>\n",
       "      <td>True</td>\n",
       "      <td>False</td>\n",
       "      <td>master</td>\n",
       "    </tr>\n",
       "    <tr>\n",
       "      <th>4</th>\n",
       "      <td>coding-interview-university</td>\n",
       "      <td>A complete computer science study plan to beco...</td>\n",
       "      <td>https://github.com/jwasham/coding-interview-un...</td>\n",
       "      <td>2016-06-06T02:34:12Z</td>\n",
       "      <td>2023-09-21T10:54:48Z</td>\n",
       "      <td>NaN</td>\n",
       "      <td>20998</td>\n",
       "      <td>265161</td>\n",
       "      <td>69434</td>\n",
       "      <td>56</td>\n",
       "      <td>...</td>\n",
       "      <td>True</td>\n",
       "      <td>False</td>\n",
       "      <td>True</td>\n",
       "      <td>False</td>\n",
       "      <td>False</td>\n",
       "      <td>False</td>\n",
       "      <td>False</td>\n",
       "      <td>False</td>\n",
       "      <td>False</td>\n",
       "      <td>main</td>\n",
       "    </tr>\n",
       "  </tbody>\n",
       "</table>\n",
       "<p>5 rows × 24 columns</p>\n",
       "</div>"
      ],
      "text/plain": [
       "                          Name  \\\n",
       "0                 freeCodeCamp   \n",
       "1       free-programming-books   \n",
       "2                      awesome   \n",
       "3                      996.ICU   \n",
       "4  coding-interview-university   \n",
       "\n",
       "                                         Description  \\\n",
       "0  freeCodeCamp.org's open-source codebase and cu...   \n",
       "1         :books: Freely available programming books   \n",
       "2  😎 Awesome lists about all kinds of interesting...   \n",
       "3  Repo for counting stars and contributing. Pres...   \n",
       "4  A complete computer science study plan to beco...   \n",
       "\n",
       "                                                 URL            Created At  \\\n",
       "0       https://github.com/freeCodeCamp/freeCodeCamp  2014-12-24T17:49:19Z   \n",
       "1  https://github.com/EbookFoundation/free-progra...  2013-10-11T06:50:37Z   \n",
       "2            https://github.com/sindresorhus/awesome  2014-07-11T13:42:37Z   \n",
       "3                  https://github.com/996icu/996.ICU  2019-03-26T07:31:14Z   \n",
       "4  https://github.com/jwasham/coding-interview-un...  2016-06-06T02:34:12Z   \n",
       "\n",
       "             Updated At                                           Homepage  \\\n",
       "0  2023-09-21T11:32:33Z                http://contribute.freecodecamp.org/   \n",
       "1  2023-09-21T11:09:25Z  https://ebookfoundation.github.io/free-program...   \n",
       "2  2023-09-21T11:18:22Z                                                NaN   \n",
       "3  2023-09-21T08:09:01Z                                    https://996.icu   \n",
       "4  2023-09-21T10:54:48Z                                                NaN   \n",
       "\n",
       "     Size   Stars  Forks  Issues  ...  Has Issues Has Projects Has Downloads  \\\n",
       "0  387451  374074  33599     248  ...        True         True          True   \n",
       "1   17087  298393  57194      46  ...        True        False          True   \n",
       "2    1441  269997  26485      61  ...        True        False          True   \n",
       "3  187799  267901  21497   16712  ...       False        False          True   \n",
       "4   20998  265161  69434      56  ...        True        False          True   \n",
       "\n",
       "  Has Wiki  Has Pages  Has Discussions  Is Fork  Is Archived  Is Template  \\\n",
       "0    False       True            False    False        False        False   \n",
       "1    False       True            False    False        False        False   \n",
       "2    False       True            False    False        False        False   \n",
       "3    False      False            False    False         True        False   \n",
       "4    False      False            False    False        False        False   \n",
       "\n",
       "   Default Branch  \n",
       "0            main  \n",
       "1            main  \n",
       "2            main  \n",
       "3          master  \n",
       "4            main  \n",
       "\n",
       "[5 rows x 24 columns]"
      ]
     },
     "execution_count": 20,
     "metadata": {},
     "output_type": "execute_result"
    }
   ],
   "source": [
    "raw_df = pd.read_csv(\"./data/raw/data.csv\")\n",
    "raw_df.head()"
   ]
  },
  {
   "cell_type": "markdown",
   "metadata": {},
   "source": [
    "### How many rows and how many columns does the raw data have?"
   ]
  },
  {
   "cell_type": "code",
   "execution_count": 21,
   "metadata": {},
   "outputs": [
    {
     "name": "stdout",
     "output_type": "stream",
     "text": [
      "Current shape: (215029, 24)\n"
     ]
    }
   ],
   "source": [
    "shape = raw_df.shape\n",
    "print(f\"Current shape: {shape}\")"
   ]
  },
  {
   "cell_type": "markdown",
   "metadata": {},
   "source": [
    "### What is the meaning of each row?"
   ]
  },
  {
   "cell_type": "markdown",
   "metadata": {},
   "source": [
    "**Answer:** \n",
    "- Based on the observations of the dataset, we suppose that each row corresponds to a distinct information about various aspects of a specific GitHub repository."
   ]
  },
  {
   "cell_type": "markdown",
   "metadata": {},
   "source": [
    "### Does the raw data have duplicate rows?"
   ]
  },
  {
   "cell_type": "code",
   "execution_count": 22,
   "metadata": {},
   "outputs": [],
   "source": [
    "# retrieve the index\n",
    "index = raw_df.index\n",
    "# create a Pandas Series indicating whether each index is duplicated or not\n",
    "deDupSeries = index.duplicated(keep='first')\n",
    "# calculate the number of duplicated rows\n",
    "num_duplicated_rows = deDupSeries.sum()"
   ]
  },
  {
   "cell_type": "code",
   "execution_count": 23,
   "metadata": {},
   "outputs": [
    {
     "name": "stdout",
     "output_type": "stream",
     "text": [
      "Raw data have no duplicated line !\n"
     ]
    }
   ],
   "source": [
    "if num_duplicated_rows == 0:\n",
    "    print(f\"Raw data have no duplicated line !\")\n",
    "else:\n",
    "    if num_duplicated_rows > 1:\n",
    "        ext = \"lines\"\n",
    "    else:\n",
    "        ext = \"line\"\n",
    "    print(f\"Raw data have {num_duplicated_rows} duplicated \" + ext)"
   ]
  },
  {
   "cell_type": "markdown",
   "metadata": {},
   "source": [
    "### What does each column mean?"
   ]
  },
  {
   "cell_type": "markdown",
   "metadata": {},
   "source": [
    "\n",
    "<table style=\"width: 100%; border-collapse: collapse;\">\n",
    "  <thead>\n",
    "    <tr>\n",
    "      <th style=\"min-width: 10px; width: 30px; background-color: #04B1CC; color: white; font-size :15px; font-weight: bold; text-align: left; padding: 8px;\">No</th>\n",
    "      <th style=\"background-color: #04B1CC; color: white; font-size :15px; font-weight: bold; text-align: left; padding: 8px;\">Columns</th>\n",
    "      <th style=\"background-color: #04B1CC; color: white; font-size :15px; font-weight: bold; text-align: left; padding: 8px;\">Meaning</th>\n",
    "    </tr>\n",
    "  </thead>\n",
    "  <tbody>\n",
    "    <tr>\n",
    "      <td style=\"font-size: 14px; text-align: left;\">1</td>\n",
    "      <td style=\"font-size: 14px; text-align: left;\">Name</td>\n",
    "      <td style=\"font-size: 14px; text-align: left;\">The name of the GitHub repository.</td>\n",
    "    </tr>\n",
    "    <tr>\n",
    "      <td style=\"font-size: 14px; text-align: left;\">2</td>\n",
    "      <td style=\"font-size: 14px; text-align: left;\">Description</td>\n",
    "      <td style=\"font-size: 14px; text-align: left;\">A brief description of the repository.</td>\n",
    "    </tr>\n",
    "    <tr>\n",
    "      <td style=\"font-size: 14px; text-align: left;\">3</td>\n",
    "      <td style=\"font-size: 14px; text-align: left;\">URL</td>\n",
    "      <td style=\"font-size: 14px; text-align: left;\">The URL to access the repository on GitHub.</td>\n",
    "    </tr>\n",
    "    <tr>\n",
    "      <td style=\"font-size: 14px; text-align: left;\">4</td>\n",
    "      <td style=\"font-size: 14px; text-align: left;\">Created At</td>\n",
    "      <td style=\"font-size: 14px; text-align: left;\">The time indicating when the repository was created.</td>\n",
    "    </tr>\n",
    "    <tr>\n",
    "      <td style=\"font-size: 14px; text-align: left;\">5</td>\n",
    "      <td style=\"font-size: 14px; text-align: left;\">Updated At</td>\n",
    "      <td style=\"font-size: 14px; text-align: left;\">The time indicating when the repository was last updated.</td>\n",
    "    </tr>\n",
    "    <tr>\n",
    "      <td style=\"font-size: 14px; text-align: left;\">6</td>\n",
    "      <td style=\"font-size: 14px; text-align: left;\">Homepage</td>\n",
    "      <td style=\"font-size: 14px; text-align: left;\">The URL of the repository's homepage or website.</td>\n",
    "    </tr>\n",
    "    <tr>\n",
    "      <td style=\"font-size: 14px; text-align: left;\">7</td>\n",
    "      <td style=\"font-size: 14px; text-align: left;\">Size</td>\n",
    "      <td style=\"font-size: 14px; text-align: left;\">The size of the repository.</td>\n",
    "    </tr>\n",
    "    <tr>\n",
    "      <td style=\"font-size: 14px; text-align: left;\">8</td>\n",
    "      <td style=\"font-size: 14px; text-align: left;\">Stars</td>\n",
    "      <td style=\"font-size: 14px; text-align: left;\">The number of stars the repository has received.</td>\n",
    "    </tr>\n",
    "    <tr>\n",
    "      <td style=\"font-size: 14px; text-align: left;\">9</td>\n",
    "      <td style=\"font-size: 14px; text-align: left;\">Forks</td>\n",
    "      <td style=\"font-size: 14px; text-align: left;\">The number of times the repository has been forked (copied).</td>\n",
    "    </tr>\n",
    "    <tr>\n",
    "      <td style=\"font-size: 14px; text-align: left;\">10</td>\n",
    "      <td style=\"font-size: 14px; text-align: left;\">Issues</td>\n",
    "      <td style=\"font-size: 14px; text-align: left;\">The number of open issues in the repository.</td>\n",
    "    </tr>\n",
    "    <tr>\n",
    "      <td style=\"font-size: 14px; text-align: left;\">11</td>\n",
    "      <td style=\"font-size: 14px; text-align: left;\">Watchers</td>\n",
    "      <td style=\"font-size: 14px; text-align: left;\">The number of users who are watching the repository for updates.</td>\n",
    "    </tr>\n",
    "    <tr>\n",
    "      <td style=\"font-size: 14px; text-align: left;\">12</td>\n",
    "      <td style=\"font-size: 14px; text-align: left;\">Language</td>\n",
    "      <td style=\"font-size: 14px; text-align: left;\">The primary programming language used in the repository.</td>\n",
    "    </tr>\n",
    "    <tr>\n",
    "      <td style=\"font-size: 14px; text-align: left;\">13</td>\n",
    "      <td style=\"font-size: 14px; text-align: left;\">License</td>\n",
    "      <td style=\"font-size: 14px; text-align: left;\">The type of license under which the repository's code is distributed.</td>\n",
    "    </tr>\n",
    "    <tr>\n",
    "      <td style=\"font-size: 14px; text-align: left;\">14</td>\n",
    "      <td style=\"font-size: 14px; text-align: left;\">Topics</td>\n",
    "      <td style=\"font-size: 14px; text-align: left;\">A list of topics or tags associated with the repository.</td>\n",
    "    </tr>\n",
    "    <tr>\n",
    "      <td style=\"font-size: 14px; text-align: left;\">15</td>\n",
    "      <td style=\"font-size: 14px; text-align: left;\">Has Issues</td>\n",
    "      <td style=\"font-size: 14px; text-align: left;\">Indicates whether the repository has an issue tracker (True or False).</td>\n",
    "    </tr>\n",
    "    <tr>\n",
    "      <td style=\"font-size: 14px; text-align: left;\">16</td>\n",
    "      <td style=\"font-size: 14px; text-align: left;\">Has Projects</td>\n",
    "      <td style=\"font-size: 14px; text-align: left;\">Indicates whether the repository has GitHub Projects enabled (True or False).</td> \n",
    "    </tr>\n",
    "    <tr>\n",
    "      <td style=\"font-size: 14px; text-align: left;\">17</td>\n",
    "      <td style=\"font-size: 14px; text-align: left;\">Has Downloads</td>\n",
    "      <td style=\"font-size: 14px; text-align: left;\">Indicates whether the repository has downloads enabled (True or False).</td>\n",
    "    </tr>\n",
    "    <tr>\n",
    "      <td style=\"font-size: 14px; text-align: left;\">18</td>\n",
    "      <td style=\"font-size: 14px; text-align: left;\">Has Wiki</td>\n",
    "      <td style=\"font-size: 14px; text-align: left;\">Indicates whether the repository has a wiki (True or False).</td>\n",
    "    </tr>\n",
    "    <tr>\n",
    "      <td style=\"font-size: 14px; text-align: left;\">19</td>\n",
    "      <td style=\"font-size: 14px; text-align: left;\">Has Pages</td>\n",
    "      <td style=\"font-size: 14px; text-align: left;\">Indicates whether the repository has GitHub Pages enabled (True or False).</td>\n",
    "    </tr>\n",
    "    <tr>\n",
    "      <td style=\"font-size: 14px; text-align: left;\">20</td>\n",
    "      <td style=\"font-size: 14px; text-align: left;\">Has Discussions</td>\n",
    "      <td style=\"font-size: 14px; text-align: left;\">Indicates whether the repository has GitHub Discussions enabled (True or False).</td>\n",
    "    </tr>\n",
    "    <tr>\n",
    "      <td style=\"font-size: 14px; text-align: left;\">21</td>\n",
    "      <td style=\"font-size: 14px; text-align: left;\">Is Fork</td>\n",
    "      <td style=\"font-size: 14px; text-align: left;\">Indicates whether the repository is a fork of another repository (True or False).</td>\n",
    "    </tr>\n",
    "    <tr>\n",
    "      <td style=\"font-size: 14px; text-align: left;\">22</td>\n",
    "      <td style=\"font-size: 14px; text-align: left;\">Is Archived</td>\n",
    "      <td style=\"font-size: 14px; text-align: left;\">Indicates whether the repository is archived (True or False).</td>\n",
    "    </tr>\n",
    "    <tr>\n",
    "      <td style=\"font-size: 14px; text-align: left;\">23</td>\n",
    "      <td style=\"font-size: 14px; text-align: left;\">Is Template</td>\n",
    "      <td style=\"font-size: 14px; text-align: left;\">Indicates whether the repository is a template (True or False).</td>\n",
    "    </tr>\n",
    "    <tr>\n",
    "      <td style=\"font-size: 14px; text-align: left;\">24</td>\n",
    "      <td style=\"font-size: 14px; text-align: left;\">Default Branch</td>\n",
    "      <td style=\"font-size: 14px; text-align: left;\">The default branch of the repository.</td>\n",
    "    </tr>\n",
    "  </tbody>\n",
    "</table>"
   ]
  },
  {
   "cell_type": "markdown",
   "metadata": {},
   "source": [
    "### What data type does each column currently have? Are there any columns having inappropriate data types?"
   ]
  },
  {
   "cell_type": "markdown",
   "metadata": {},
   "source": [
    "Calculating the dtype of each column in raw_df"
   ]
  },
  {
   "cell_type": "code",
   "execution_count": 24,
   "metadata": {},
   "outputs": [
    {
     "data": {
      "text/plain": [
       "Name               object\n",
       "Description        object\n",
       "URL                object\n",
       "Created At         object\n",
       "Updated At         object\n",
       "Homepage           object\n",
       "Size                int64\n",
       "Stars               int64\n",
       "Forks               int64\n",
       "Issues              int64\n",
       "Watchers            int64\n",
       "Language           object\n",
       "License            object\n",
       "Topics             object\n",
       "Has Issues           bool\n",
       "Has Projects         bool\n",
       "Has Downloads        bool\n",
       "Has Wiki             bool\n",
       "Has Pages            bool\n",
       "Has Discussions      bool\n",
       "Is Fork              bool\n",
       "Is Archived          bool\n",
       "Is Template          bool\n",
       "Default Branch     object\n",
       "dtype: object"
      ]
     },
     "execution_count": 24,
     "metadata": {},
     "output_type": "execute_result"
    }
   ],
   "source": [
    "raw_df.dtypes"
   ]
  },
  {
   "cell_type": "markdown",
   "metadata": {},
   "source": [
    "We notice that the columns `Created At` and `Updated At` are currently of object type. Given that they represent time periods, it is advisable to convert them to datetime type."
   ]
  },
  {
   "cell_type": "code",
   "execution_count": 25,
   "metadata": {},
   "outputs": [],
   "source": [
    "# convert to datetime\n",
    "raw_df[\"Created At\"] = pd.to_datetime(raw_df[\"Created At\"])\n",
    "raw_df[\"Updated At\"] = pd.to_datetime(raw_df[\"Updated At\"])"
   ]
  },
  {
   "cell_type": "code",
   "execution_count": 26,
   "metadata": {},
   "outputs": [
    {
     "data": {
      "text/plain": [
       "Name                            object\n",
       "Description                     object\n",
       "URL                             object\n",
       "Created At         datetime64[ns, UTC]\n",
       "Updated At         datetime64[ns, UTC]\n",
       "Homepage                        object\n",
       "Size                             int64\n",
       "Stars                            int64\n",
       "Forks                            int64\n",
       "Issues                           int64\n",
       "Watchers                         int64\n",
       "Language                        object\n",
       "License                         object\n",
       "Topics                          object\n",
       "Has Issues                        bool\n",
       "Has Projects                      bool\n",
       "Has Downloads                     bool\n",
       "Has Wiki                          bool\n",
       "Has Pages                         bool\n",
       "Has Discussions                   bool\n",
       "Is Fork                           bool\n",
       "Is Archived                       bool\n",
       "Is Template                       bool\n",
       "Default Branch                  object\n",
       "dtype: object"
      ]
     },
     "execution_count": 26,
     "metadata": {},
     "output_type": "execute_result"
    }
   ],
   "source": [
    "# TEST\n",
    "raw_df.dtypes"
   ]
  }
 ],
 "metadata": {
  "kernelspec": {
   "display_name": "min_ds-env",
   "language": "python",
   "name": "python3"
  },
  "language_info": {
   "codemirror_mode": {
    "name": "ipython",
    "version": 3
   },
   "file_extension": ".py",
   "mimetype": "text/x-python",
   "name": "python",
   "nbconvert_exporter": "python",
   "pygments_lexer": "ipython3",
   "version": "3.11.2"
  }
 },
 "nbformat": 4,
 "nbformat_minor": 2
}
